{
  "nbformat": 4,
  "nbformat_minor": 0,
  "metadata": {
    "colab": {
      "provenance": [],
      "gpuType": "T4"
    },
    "kernelspec": {
      "name": "python3",
      "display_name": "Python 3"
    },
    "language_info": {
      "name": "python"
    },
    "accelerator": "GPU"
  },
  "cells": [
    {
      "cell_type": "code",
      "source": [],
      "metadata": {
        "id": "Rt4V95OidTgF"
      },
      "execution_count": null,
      "outputs": []
    },
    {
      "cell_type": "code",
      "source": [
        "#from google.colab import drive\n",
        "#drive.mount('/content/drive')"
      ],
      "metadata": {
        "id": "GAazM4mj6OoY"
      },
      "execution_count": null,
      "outputs": []
    },
    {
      "cell_type": "markdown",
      "source": [
        "#**Part 1:** labraries  and data set"
      ],
      "metadata": {
        "id": "5S7Pi49WXuFb"
      }
    },
    {
      "cell_type": "code",
      "source": [
        "# Install necessary libraries\n",
        "!pip install tensorflow numpy matplotlib\n",
        "\n",
        "# Import libraries\n",
        "from tensorflow.keras.layers import Input, Lambda, Dense, Flatten\n",
        "from tensorflow.keras.models import Model\n",
        "from tensorflow.keras.applications.resnet50 import ResNet50\n",
        "from keras.applications.vgg19 import VGG19\n",
        "from tensorflow.keras.applications.resnet50 import preprocess_input\n",
        "from tensorflow.keras.preprocessing import image\n",
        "from tensorflow.keras.preprocessing.image import ImageDataGenerator,load_img\n",
        "from tensorflow.keras.models import Sequential\n",
        "import numpy as np\n",
        "from glob import glob\n",
        "import matplotlib.pyplot as plt"
      ],
      "metadata": {
        "id": "aynF0l-aYKjQ"
      },
      "execution_count": null,
      "outputs": []
    },
    {
      "cell_type": "code",
      "source": [
        "import tensorflow as tf\n",
        "print(tf.__version__)\n"
      ],
      "metadata": {
        "colab": {
          "base_uri": "https://localhost:8080/"
        },
        "id": "vJ-1smy3_wJd",
        "outputId": "ece2cb94-1266-48b4-dad5-4d421c1979aa"
      },
      "execution_count": null,
      "outputs": [
        {
          "output_type": "stream",
          "name": "stdout",
          "text": [
            "2.14.0\n"
          ]
        }
      ]
    },
    {
      "cell_type": "code",
      "source": [
        "# Load and explore the dataset\n",
        "\n",
        "# Resize the image to the expected input size for ResNet50 (224x224)\n",
        "IMAGE_SIZE = [224, 224]\n",
        "\n",
        "# Define the paths in Google Colab\n",
        "train_path = '/content/drive/MyDrive/Colab Notebooks/datasets/Train'\n",
        "test_path = '/content/drive/MyDrive/Colab Notebooks/datasets/Test'\n"
      ],
      "metadata": {
        "id": "m-A0_n6saJYS"
      },
      "execution_count": null,
      "outputs": []
    },
    {
      "cell_type": "code",
      "source": [],
      "metadata": {
        "id": "xRwP7Vg482-w"
      },
      "execution_count": null,
      "outputs": []
    },
    {
      "cell_type": "code",
      "source": [
        "# useful for getting number of output classes\n",
        "folders = glob(f'{train_path}/*')\n",
        "\n",
        "# Print the list of folders\n",
        "print(folders)\n",
        "print(len(folders))"
      ],
      "metadata": {
        "colab": {
          "base_uri": "https://localhost:8080/"
        },
        "id": "n-SAtLYjgwg8",
        "outputId": "fc2c34d1-faad-4bb1-8d10-3e72203cd32e"
      },
      "execution_count": null,
      "outputs": [
        {
          "output_type": "stream",
          "name": "stdout",
          "text": [
            "['/content/drive/MyDrive/Colab Notebooks/datasets/Train/Parasite', '/content/drive/MyDrive/Colab Notebooks/datasets/Train/Uninfected']\n",
            "2\n"
          ]
        }
      ]
    },
    {
      "cell_type": "code",
      "source": [],
      "metadata": {
        "id": "jF4jJrD3gR_s"
      },
      "execution_count": null,
      "outputs": []
    },
    {
      "cell_type": "markdown",
      "source": [],
      "metadata": {
        "id": "6y1NbjdkYVyp"
      }
    },
    {
      "cell_type": "markdown",
      "source": [
        "#**Part 2:** Data Preprocessing and Augmentation"
      ],
      "metadata": {
        "id": "gXUsSKq6YfDC"
      }
    },
    {
      "cell_type": "code",
      "source": [
        "# Step 1: Use the ImageDataGenerator to perform data augmentation for the training/test set\n",
        "\n",
        "train_datagen = ImageDataGenerator(\n",
        "    rescale=1./255,             # Rescale pixel values to the range [0,1]\n",
        "    shear_range=0.2,            # Apply random shear transformations\n",
        "    zoom_range=0.2,             # Apply random zoom transformations\n",
        "    horizontal_flip=True        # Flip images horizontally\n",
        ")\n",
        "\n"
      ],
      "metadata": {
        "id": "Egf-weBrYnBs"
      },
      "execution_count": null,
      "outputs": []
    },
    {
      "cell_type": "code",
      "source": [
        "# Step 2 : for the test set, only rescaling is applied(no augmenation)\n",
        "test_datagen = ImageDataGenerator(rescale=1./255)"
      ],
      "metadata": {
        "id": "dRNEt8PizH1a"
      },
      "execution_count": null,
      "outputs": []
    },
    {
      "cell_type": "code",
      "source": [
        "# Step 3: Create a generator for the training set\n",
        "\n",
        "training_set = train_datagen.flow_from_directory(\n",
        "    train_path,\n",
        "    target_size=(224, 224),\n",
        "    batch_size=32,\n",
        "    class_mode='categorical'\n",
        ")"
      ],
      "metadata": {
        "colab": {
          "base_uri": "https://localhost:8080/"
        },
        "id": "hSdxihqJzyfM",
        "outputId": "a0ab9472-2932-441e-e9d8-9f40f369601e"
      },
      "execution_count": null,
      "outputs": [
        {
          "output_type": "stream",
          "name": "stdout",
          "text": [
            "Found 416 images belonging to 2 classes.\n"
          ]
        }
      ]
    },
    {
      "cell_type": "markdown",
      "source": [],
      "metadata": {
        "id": "2TTr3qE5zHeT"
      }
    },
    {
      "cell_type": "code",
      "source": [
        "# Step 4: Create a generator for the test set\n",
        "test_set = test_datagen.flow_from_directory(\n",
        "    test_path,\n",
        "    target_size=(224, 224),\n",
        "    batch_size=32,\n",
        "    class_mode='categorical'\n",
        ")\n"
      ],
      "metadata": {
        "colab": {
          "base_uri": "https://localhost:8080/"
        },
        "id": "K09sZItzwQ-T",
        "outputId": "7e0ae0a0-6040-4bf2-869a-7ea41f0a0343"
      },
      "execution_count": null,
      "outputs": [
        {
          "output_type": "stream",
          "name": "stdout",
          "text": [
            "Found 134 images belonging to 2 classes.\n"
          ]
        }
      ]
    },
    {
      "cell_type": "markdown",
      "source": [
        "#**Part 3**: Model Building"
      ],
      "metadata": {
        "id": "t4k_KSCAYxZi"
      }
    },
    {
      "cell_type": "code",
      "source": [
        "\n",
        "# Step 1: Import VGG19 model and create an instance for transfer learning\n",
        "# resnet = ResNet50(input_shape=IMAGE_SIZE + [3], weights='imagenet', include_top=False)\n",
        "mobilnet = VGG19(input_shape=IMAGE_SIZE + [3], weights='imagenet', include_top=False)"
      ],
      "metadata": {
        "id": "WIcpF4gZYxZj"
      },
      "execution_count": null,
      "outputs": []
    },
    {
      "cell_type": "code",
      "source": [
        "# Step 2: Freeze existing weights to prevent training\n",
        "for layer in mobilnet.layers:\n",
        "    layer.trainable = False\n",
        "\n"
      ],
      "metadata": {
        "id": "iq5CpNmqggWt"
      },
      "execution_count": null,
      "outputs": []
    },
    {
      "cell_type": "code",
      "source": [
        "# Step 3: Flatten layer to convert 3D output to 1D\n",
        "x = Flatten()(mobilnet.output)\n",
        "\n",
        "# Print the shape before and after flattening\n",
        "print(f\"Shape before flattening: {mobilnet.output.shape}\")\n",
        "print(f\"Shape after flattening :  {x.shape}\")\n"
      ],
      "metadata": {
        "colab": {
          "base_uri": "https://localhost:8080/"
        },
        "id": "nZkmWCeMjIyN",
        "outputId": "d6dfce7b-86fd-46df-c7d3-4313e989b80c"
      },
      "execution_count": null,
      "outputs": [
        {
          "output_type": "stream",
          "name": "stdout",
          "text": [
            "Shape before flattening: (None, 7, 7, 512)\n",
            "Shape after flattening :  (None, 25088)\n"
          ]
        }
      ]
    },
    {
      "cell_type": "code",
      "source": [
        "# Step 4: Define the final prediction layer\n",
        "prediction = Dense(len(folders), activation='softmax')(x)\n",
        "#prediction represents the output of the model. It will be a probability distribution over the 4 classes"
      ],
      "metadata": {
        "id": "LuuOtY8kofV0"
      },
      "execution_count": null,
      "outputs": []
    },
    {
      "cell_type": "code",
      "source": [
        "# Step 5: Create a model object by connecting the ResNet base model with the final prediction layer\n",
        "model = Model(inputs=mobilnet.input, outputs=prediction)"
      ],
      "metadata": {
        "id": "I7nbub_DpJ08"
      },
      "execution_count": null,
      "outputs": []
    },
    {
      "cell_type": "code",
      "source": [
        "# Step 6: Display a summary of the model architecture\n",
        "model.summary()\n"
      ],
      "metadata": {
        "id": "Rpiye3gUqKQL"
      },
      "execution_count": null,
      "outputs": []
    },
    {
      "cell_type": "markdown",
      "source": [
        "#Part 4: Model Training"
      ],
      "metadata": {
        "id": "e7F3VO09ZEk6"
      }
    },
    {
      "cell_type": "code",
      "source": [
        "# step1: configuring the model for training.\n",
        "\n",
        "# specifies the loss function, optimizer, and metrics to be used during the training process.\n",
        "model.compile(\n",
        "  loss='categorical_crossentropy',\n",
        "  optimizer='adam',\n",
        "  metrics=['accuracy']\n",
        ")"
      ],
      "metadata": {
        "id": "hyeXVG_OZEk9"
      },
      "execution_count": null,
      "outputs": []
    },
    {
      "cell_type": "code",
      "source": [
        "# step 2 :  fit the model\n",
        "# Run the cell. It will take some time to execute\n",
        "r = model.fit_generator(\n",
        "  training_set,\n",
        "  validation_data=test_set,\n",
        "  epochs=20,\n",
        "  steps_per_epoch=len(training_set),\n",
        "  validation_steps=len(test_set)\n",
        ")"
      ],
      "metadata": {
        "colab": {
          "base_uri": "https://localhost:8080/"
        },
        "id": "k3GVd4sY1Ifa",
        "outputId": "c6580f3b-f440-4deb-9876-51cadc51aa42"
      },
      "execution_count": null,
      "outputs": [
        {
          "output_type": "stream",
          "name": "stderr",
          "text": [
            "<ipython-input-22-bc2e76a8d839>:3: UserWarning: `Model.fit_generator` is deprecated and will be removed in a future version. Please use `Model.fit`, which supports generators.\n",
            "  r = model.fit_generator(\n"
          ]
        },
        {
          "output_type": "stream",
          "name": "stdout",
          "text": [
            "Epoch 1/20\n",
            "13/13 [==============================] - 184s 14s/step - loss: 1.0909 - accuracy: 0.5889 - val_loss: 0.6569 - val_accuracy: 0.6791\n",
            "Epoch 2/20\n",
            "13/13 [==============================] - 7s 551ms/step - loss: 0.6595 - accuracy: 0.6875 - val_loss: 0.9583 - val_accuracy: 0.5373\n",
            "Epoch 3/20\n",
            "13/13 [==============================] - 6s 487ms/step - loss: 0.4711 - accuracy: 0.7596 - val_loss: 0.4566 - val_accuracy: 0.8060\n",
            "Epoch 4/20\n",
            "13/13 [==============================] - 8s 659ms/step - loss: 0.3271 - accuracy: 0.8774 - val_loss: 0.4013 - val_accuracy: 0.7612\n",
            "Epoch 5/20\n",
            "13/13 [==============================] - 6s 482ms/step - loss: 0.3019 - accuracy: 0.8894 - val_loss: 0.4160 - val_accuracy: 0.7985\n",
            "Epoch 6/20\n",
            "13/13 [==============================] - 8s 558ms/step - loss: 0.2839 - accuracy: 0.8894 - val_loss: 0.3826 - val_accuracy: 0.8433\n",
            "Epoch 7/20\n",
            "13/13 [==============================] - 9s 670ms/step - loss: 0.2494 - accuracy: 0.9014 - val_loss: 0.3715 - val_accuracy: 0.8433\n",
            "Epoch 8/20\n",
            "13/13 [==============================] - 7s 500ms/step - loss: 0.2521 - accuracy: 0.9014 - val_loss: 0.4266 - val_accuracy: 0.7687\n",
            "Epoch 9/20\n",
            "13/13 [==============================] - 8s 631ms/step - loss: 0.2870 - accuracy: 0.8774 - val_loss: 0.3510 - val_accuracy: 0.8134\n",
            "Epoch 10/20\n",
            "13/13 [==============================] - 6s 493ms/step - loss: 0.2743 - accuracy: 0.8726 - val_loss: 0.5501 - val_accuracy: 0.7239\n",
            "Epoch 11/20\n",
            "13/13 [==============================] - 9s 682ms/step - loss: 0.2311 - accuracy: 0.8990 - val_loss: 0.3348 - val_accuracy: 0.8284\n",
            "Epoch 12/20\n",
            "13/13 [==============================] - 7s 500ms/step - loss: 0.2084 - accuracy: 0.9351 - val_loss: 0.3237 - val_accuracy: 0.8806\n",
            "Epoch 13/20\n",
            "13/13 [==============================] - 8s 660ms/step - loss: 0.1827 - accuracy: 0.9399 - val_loss: 0.4675 - val_accuracy: 0.7463\n",
            "Epoch 14/20\n",
            "13/13 [==============================] - 6s 493ms/step - loss: 0.1737 - accuracy: 0.9375 - val_loss: 0.2935 - val_accuracy: 0.8582\n",
            "Epoch 15/20\n",
            "13/13 [==============================] - 8s 628ms/step - loss: 0.1622 - accuracy: 0.9543 - val_loss: 0.3908 - val_accuracy: 0.7836\n",
            "Epoch 16/20\n",
            "13/13 [==============================] - 7s 496ms/step - loss: 0.1539 - accuracy: 0.9567 - val_loss: 0.3480 - val_accuracy: 0.8060\n",
            "Epoch 17/20\n",
            "13/13 [==============================] - 8s 647ms/step - loss: 0.1473 - accuracy: 0.9543 - val_loss: 0.2845 - val_accuracy: 0.9104\n",
            "Epoch 18/20\n",
            "13/13 [==============================] - 6s 495ms/step - loss: 0.1490 - accuracy: 0.9639 - val_loss: 0.3194 - val_accuracy: 0.8507\n",
            "Epoch 19/20\n",
            "13/13 [==============================] - 8s 630ms/step - loss: 0.1487 - accuracy: 0.9423 - val_loss: 0.2499 - val_accuracy: 0.9104\n",
            "Epoch 20/20\n",
            "13/13 [==============================] - 7s 520ms/step - loss: 0.1555 - accuracy: 0.9543 - val_loss: 0.2403 - val_accuracy: 0.9030\n"
          ]
        }
      ]
    },
    {
      "cell_type": "markdown",
      "source": [
        "#Part 5: Model Evaluation"
      ],
      "metadata": {
        "id": "uVJE0RSXZP16"
      }
    },
    {
      "cell_type": "code",
      "source": [
        "#step1: # plot the loss and accuracy\n",
        "\n",
        "plt.plot(r.history['loss'], label='train loss')\n",
        "plt.plot(r.history['val_loss'], label='val loss')\n",
        "plt.legend()\n",
        "plt.show()\n",
        "plt.savefig('LossVal_loss')\n",
        "\n",
        "    # plot the accuracy\n",
        "plt.plot(r.history['accuracy'], label='train acc')\n",
        "plt.plot(r.history['val_accuracy'], label='val acc')\n",
        "plt.legend()\n",
        "plt.show()\n",
        "plt.savefig('AccVal_acc')"
      ],
      "metadata": {
        "id": "5Ww5vmTHZP17",
        "colab": {
          "base_uri": "https://localhost:8080/",
          "height": 861
        },
        "outputId": "23deb742-6d4e-4640-9884-642dd39c3503"
      },
      "execution_count": null,
      "outputs": [
        {
          "output_type": "display_data",
          "data": {
            "text/plain": [
              "<Figure size 640x480 with 1 Axes>"
            ],
            "image/png": "[encoded data removed]"
          },
          "metadata": {}
        },
        {
          "output_type": "display_data",
          "data": {
            "text/plain": [
              "<Figure size 640x480 with 1 Axes>"
            ],
            "image/png": "[encoded data removed]"
          },
          "metadata": {}
        },
        {
          "output_type": "display_data",
          "data": {
            "text/plain": [
              "<Figure size 640x480 with 0 Axes>"
            ]
          },
          "metadata": {}
        }
      ]
    },
    {
      "cell_type": "code",
      "source": [
        "\n",
        "\n",
        "# step2: save  THE MODEL  as a h5 file\n",
        "from tensorflow.keras.models import load_model\n",
        "\n",
        "model.save('model2_VGG19.h5')\n",
        "\n"
      ],
      "metadata": {
        "id": "fECERQU_7rbS"
      },
      "execution_count": null,
      "outputs": []
    },
    {
      "cell_type": "markdown",
      "source": [
        "#  part 6 :  predict test data"
      ],
      "metadata": {
        "id": "ItWQf0yi0qVF"
      }
    },
    {
      "cell_type": "code",
      "source": [
        "y_pred = model.predict(test_set)\n",
        "y_pred"
      ],
      "metadata": {
        "id": "imrwkl3UOZcW",
        "outputId": "2b24f42d-8a73-4a0d-804f-3652290a1b88",
        "colab": {
          "base_uri": "https://localhost:8080/"
        }
      },
      "execution_count": null,
      "outputs": [
        {
          "output_type": "stream",
          "name": "stdout",
          "text": [
            "5/5 [==============================] - 1s 152ms/step\n"
          ]
        },
        {
          "output_type": "execute_result",
          "data": {
            "text/plain": [
              "array([[8.81390631e-01, 1.18609399e-01],\n",
              "       [4.23772901e-01, 5.76227069e-01],\n",
              "       [8.67075086e-01, 1.32924929e-01],\n",
              "       [3.78317147e-01, 6.21682882e-01],\n",
              "       [9.97071147e-01, 2.92878202e-03],\n",
              "       [4.73870456e-01, 5.26129603e-01],\n",
              "       [2.21031353e-01, 7.78968632e-01],\n",
              "       [4.30823773e-01, 5.69176197e-01],\n",
              "       [9.46226060e-01, 5.37739694e-02],\n",
              "       [3.88950229e-01, 6.11049831e-01],\n",
              "       [9.97319281e-01, 2.68073054e-03],\n",
              "       [5.45819044e-01, 4.54180986e-01],\n",
              "       [9.99990106e-01, 9.87022486e-06],\n",
              "       [7.68693626e-01, 2.31306404e-01],\n",
              "       [9.65530396e-01, 3.44696045e-02],\n",
              "       [9.99438226e-01, 5.61796478e-04],\n",
              "       [2.02614218e-01, 7.97385752e-01],\n",
              "       [9.73810256e-01, 2.61897966e-02],\n",
              "       [9.24560308e-01, 7.54396543e-02],\n",
              "       [6.17195368e-01, 3.82804662e-01],\n",
              "       [9.87235367e-01, 1.27646364e-02],\n",
              "       [9.99996901e-01, 3.14352337e-06],\n",
              "       [1.55393556e-01, 8.44606519e-01],\n",
              "       [4.30159450e-01, 5.69840550e-01],\n",
              "       [9.13045585e-01, 8.69543925e-02],\n",
              "       [9.99754965e-01, 2.45052914e-04],\n",
              "       [7.14663863e-01, 2.85336107e-01],\n",
              "       [3.81372154e-01, 6.18627846e-01],\n",
              "       [9.23897505e-01, 7.61025026e-02],\n",
              "       [8.48090827e-01, 1.51909187e-01],\n",
              "       [9.98244405e-01, 1.75563199e-03],\n",
              "       [1.19499855e-01, 8.80500197e-01],\n",
              "       [9.62600291e-01, 3.73997577e-02],\n",
              "       [9.98635590e-01, 1.36433518e-03],\n",
              "       [1.09027140e-01, 8.90972793e-01],\n",
              "       [8.10800850e-01, 1.89199194e-01],\n",
              "       [7.23032951e-01, 2.76967108e-01],\n",
              "       [2.07468078e-01, 7.92531908e-01],\n",
              "       [4.00874019e-01, 5.99125922e-01],\n",
              "       [9.98091877e-01, 1.90808438e-03],\n",
              "       [7.62767494e-01, 2.37232506e-01],\n",
              "       [8.44123721e-01, 1.55876219e-01],\n",
              "       [9.96338248e-01, 3.66177014e-03],\n",
              "       [5.76929271e-01, 4.23070729e-01],\n",
              "       [9.99930263e-01, 6.97760188e-05],\n",
              "       [9.99794066e-01, 2.05986202e-04],\n",
              "       [8.67278993e-01, 1.32720947e-01],\n",
              "       [8.98126960e-01, 1.01873115e-01],\n",
              "       [9.76578116e-01, 2.34218650e-02],\n",
              "       [5.23573279e-01, 4.76426780e-01],\n",
              "       [9.98535633e-01, 1.46438624e-03],\n",
              "       [3.55603158e-01, 6.44396782e-01],\n",
              "       [3.88429523e-01, 6.11570477e-01],\n",
              "       [3.57009441e-01, 6.42990589e-01],\n",
              "       [9.99214649e-01, 7.85334734e-04],\n",
              "       [2.56438583e-01, 7.43561447e-01],\n",
              "       [4.33193862e-01, 5.66806138e-01],\n",
              "       [9.99456823e-01, 5.43149887e-04],\n",
              "       [9.98601019e-01, 1.39903079e-03],\n",
              "       [9.61511254e-01, 3.84887569e-02],\n",
              "       [9.91718650e-01, 8.28135852e-03],\n",
              "       [2.68105865e-01, 7.31894195e-01],\n",
              "       [8.95273507e-01, 1.04726464e-01],\n",
              "       [9.61877882e-01, 3.81221436e-02],\n",
              "       [1.55913115e-01, 8.44086885e-01],\n",
              "       [9.99512196e-01, 4.87807381e-04],\n",
              "       [1.44440219e-01, 8.55559766e-01],\n",
              "       [9.98140454e-01, 1.85959751e-03],\n",
              "       [9.78993297e-01, 2.10067406e-02],\n",
              "       [9.96189296e-01, 3.81074497e-03],\n",
              "       [3.35939974e-01, 6.64059997e-01],\n",
              "       [9.25595582e-01, 7.44043738e-02],\n",
              "       [2.51903623e-01, 7.48096347e-01],\n",
              "       [2.78325856e-01, 7.21674144e-01],\n",
              "       [7.89931059e-01, 2.10068911e-01],\n",
              "       [5.04019678e-01, 4.95980293e-01],\n",
              "       [9.62549806e-01, 3.74502465e-02],\n",
              "       [9.17554498e-01, 8.24455023e-02],\n",
              "       [3.10295314e-01, 6.89704657e-01],\n",
              "       [9.99325395e-01, 6.74606650e-04],\n",
              "       [7.38612592e-01, 2.61387408e-01],\n",
              "       [8.58172774e-01, 1.41827226e-01],\n",
              "       [9.48098183e-01, 5.19018248e-02],\n",
              "       [9.91986871e-01, 8.01314227e-03],\n",
              "       [8.61817539e-01, 1.38182417e-01],\n",
              "       [9.98704195e-01, 1.29579636e-03],\n",
              "       [9.96358693e-01, 3.64123681e-03],\n",
              "       [2.30864063e-01, 7.69135952e-01],\n",
              "       [9.99268353e-01, 7.31685373e-04],\n",
              "       [4.95193720e-01, 5.04806280e-01],\n",
              "       [9.93684590e-01, 6.31539989e-03],\n",
              "       [1.65084600e-01, 8.34915400e-01],\n",
              "       [2.39203691e-01, 7.60796249e-01],\n",
              "       [9.96207595e-01, 3.79236508e-03],\n",
              "       [3.05036962e-01, 6.94963038e-01],\n",
              "       [9.99998212e-01, 1.81309349e-06],\n",
              "       [9.97098565e-01, 2.90140929e-03],\n",
              "       [9.28969741e-01, 7.10301995e-02],\n",
              "       [4.47809577e-01, 5.52190483e-01],\n",
              "       [3.52630615e-01, 6.47369325e-01],\n",
              "       [9.97042716e-01, 2.95731239e-03],\n",
              "       [1.03626229e-01, 8.96373749e-01],\n",
              "       [9.96059418e-01, 3.94060463e-03],\n",
              "       [7.65223086e-01, 2.34776974e-01],\n",
              "       [9.99082565e-01, 9.17397381e-04],\n",
              "       [7.85988450e-01, 2.14011490e-01],\n",
              "       [3.73800874e-01, 6.26199186e-01],\n",
              "       [9.99729216e-01, 2.70729157e-04],\n",
              "       [2.20930114e-01, 7.79069901e-01],\n",
              "       [3.77823293e-01, 6.22176707e-01],\n",
              "       [8.79222453e-01, 1.20777562e-01],\n",
              "       [4.54094470e-01, 5.45905530e-01],\n",
              "       [9.99863505e-01, 1.36492148e-04],\n",
              "       [2.41869763e-01, 7.58130252e-01],\n",
              "       [9.99887347e-01, 1.12678048e-04],\n",
              "       [9.92579281e-01, 7.42068002e-03],\n",
              "       [9.00790215e-01, 9.92097482e-02],\n",
              "       [9.75520372e-01, 2.44795848e-02],\n",
              "       [9.63162184e-01, 3.68378237e-02],\n",
              "       [1.50929004e-01, 8.49070966e-01],\n",
              "       [9.46317732e-01, 5.36823049e-02],\n",
              "       [9.75168467e-01, 2.48314589e-02],\n",
              "       [9.97469544e-01, 2.53045745e-03],\n",
              "       [3.13582957e-01, 6.86417043e-01],\n",
              "       [7.84884155e-01, 2.15115800e-01],\n",
              "       [8.02403748e-01, 1.97596282e-01],\n",
              "       [3.53988819e-02, 9.64601099e-01],\n",
              "       [9.85118926e-01, 1.48810232e-02],\n",
              "       [6.74637020e-01, 3.25362980e-01],\n",
              "       [9.80676174e-01, 1.93237942e-02],\n",
              "       [3.29913229e-01, 6.70086801e-01],\n",
              "       [9.99937654e-01, 6.23557498e-05],\n",
              "       [1.15155101e-01, 8.84844959e-01],\n",
              "       [9.99156356e-01, 8.43589485e-04]], dtype=float32)"
            ]
          },
          "metadata": {},
          "execution_count": 36
        }
      ]
    },
    {
      "cell_type": "code",
      "source": [
        "import numpy as np\n",
        "y_pred = np.argmax(y_pred, axis=1)\n",
        "y_pred"
      ],
      "metadata": {
        "id": "1wGEQVf2PRlO",
        "outputId": "1fc9acf0-affb-4384-eba7-50737cae614a",
        "colab": {
          "base_uri": "https://localhost:8080/"
        }
      },
      "execution_count": null,
      "outputs": [
        {
          "output_type": "execute_result",
          "data": {
            "text/plain": [
              "array([0, 1, 0, 1, 0, 1, 1, 1, 0, 1, 0, 0, 0, 0, 0, 0, 1, 0, 0, 0, 0, 0,\n",
              "       1, 1, 0, 0, 0, 1, 0, 0, 0, 1, 0, 0, 1, 0, 0, 1, 1, 0, 0, 0, 0, 0,\n",
              "       0, 0, 0, 0, 0, 0, 0, 1, 1, 1, 0, 1, 1, 0, 0, 0, 0, 1, 0, 0, 1, 0,\n",
              "       1, 0, 0, 0, 1, 0, 1, 1, 0, 0, 0, 0, 1, 0, 0, 0, 0, 0, 0, 0, 0, 1,\n",
              "       0, 1, 0, 1, 1, 0, 1, 0, 0, 0, 1, 1, 0, 1, 0, 0, 0, 0, 1, 0, 1, 1,\n",
              "       0, 1, 0, 1, 0, 0, 0, 0, 0, 1, 0, 0, 0, 1, 0, 0, 1, 0, 0, 0, 1, 0,\n",
              "       1, 0])"
            ]
          },
          "metadata": {},
          "execution_count": 37
        }
      ]
    },
    {
      "cell_type": "markdown",
      "source": [
        "# Exmaple : pridict using one image"
      ],
      "metadata": {
        "id": "Lj6OYTcv_uaM"
      }
    },
    {
      "cell_type": "code",
      "source": [
        "\n",
        "\n",
        "# load the image\n",
        "img_path='/content/drive/MyDrive/Colab Notebooks/datasets/Test/Uninfected/2.png'\n",
        "\n",
        "# disply th image\n",
        "from matplotlib import pyplot as plt\n",
        "import matplotlib.image as mpimg\n",
        "img = mpimg.imread(img_path)\n",
        "imgplot = plt.imshow(img)\n",
        "plt.show()\n"
      ],
      "metadata": {
        "id": "UjFPWdgo_zaj",
        "colab": {
          "base_uri": "https://localhost:8080/",
          "height": 434
        },
        "outputId": "e50061aa-159f-499c-d5ea-c3ed32b770ea"
      },
      "execution_count": null,
      "outputs": [
        {
          "output_type": "display_data",
          "data": {
            "text/plain": [
              "<Figure size 640x480 with 1 Axes>"
            ],
            "image/png": "[encoded data removed]"
          },
          "metadata": {}
        }
      ]
    },
    {
      "cell_type": "code",
      "source": [
        "# Load and preprocess the image for prediction\n",
        "i = image.load_img(img_path, target_size=(224, 224))\n",
        "i = image.img_to_array(i) / 255.0\n",
        "i"
      ],
      "metadata": {
        "id": "Byr63l7DNJMS"
      },
      "execution_count": null,
      "outputs": []
    },
    {
      "cell_type": "code",
      "source": [
        "i.shape"
      ],
      "metadata": {
        "colab": {
          "base_uri": "https://localhost:8080/"
        },
        "id": "ODRK2ObgNgEC",
        "outputId": "87a6836a-a99e-47c2-8813-6a85ddeab6f9"
      },
      "execution_count": null,
      "outputs": [
        {
          "output_type": "execute_result",
          "data": {
            "text/plain": [
              "(224, 224, 3)"
            ]
          },
          "metadata": {},
          "execution_count": 70
        }
      ]
    },
    {
      "cell_type": "code",
      "source": [
        "\n",
        "i = i.reshape(1, 224, 224, 3)\n",
        "i=preprocess_input(i)\n",
        "i.shape"
      ],
      "metadata": {
        "colab": {
          "base_uri": "https://localhost:8080/"
        },
        "id": "lF7fgY6bN5J7",
        "outputId": "740c454e-f4b4-49c4-e61f-ef81aa870e4e"
      },
      "execution_count": null,
      "outputs": [
        {
          "output_type": "execute_result",
          "data": {
            "text/plain": [
              "(1, 224, 224, 3)"
            ]
          },
          "metadata": {},
          "execution_count": 72
        }
      ]
    },
    {
      "cell_type": "code",
      "source": [
        "# Make predictions using the provided model\n",
        "predictions = model.predict(i)\n",
        "predictions\n",
        "\n"
      ],
      "metadata": {
        "colab": {
          "base_uri": "https://localhost:8080/"
        },
        "id": "u9hme4R0N0Ei",
        "outputId": "2ff9415c-ee57-4780-dc04-95f3379fc41d"
      },
      "execution_count": null,
      "outputs": [
        {
          "output_type": "stream",
          "name": "stdout",
          "text": [
            "1/1 [==============================] - 0s 19ms/step\n"
          ]
        },
        {
          "output_type": "execute_result",
          "data": {
            "text/plain": [
              "array([[0.00134266, 0.99865735]], dtype=float32)"
            ]
          },
          "metadata": {},
          "execution_count": 78
        }
      ]
    },
    {
      "cell_type": "code",
      "source": [
        "dic = { 0 : \"Infected\" , 1 :  \"Uninfected\"}\n",
        "predictions=np.argmax(predictions, axis=1)\n",
        "print(\"Predictions:\", predictions)\n",
        "print(\"predicted_class:\", dic[predictions[0]])\n"
      ],
      "metadata": {
        "colab": {
          "base_uri": "https://localhost:8080/"
        },
        "id": "ozhxLeSBPq7O",
        "outputId": "7655826f-78b9-4a57-bdad-7171000aa797"
      },
      "execution_count": null,
      "outputs": [
        {
          "output_type": "stream",
          "name": "stdout",
          "text": [
            "Predictions: [1]\n",
            "predicted_class: Uninfected\n"
          ]
        }
      ]
    },
    {
      "cell_type": "code",
      "source": [
        "# crete a fucntion to preporcess the loaded image\n",
        "dic = { 0 : \"Infected\" , 1 :  \"Uninfected\"}\n",
        "\n",
        "def  predict_label(img_path , dic) :\n",
        "  #READ THE IMAGE\n",
        "  i = image.load_img(img_path, target_size=(224,224))\n",
        "  i = image.img_to_array(i)/255.0\n",
        "  i=np.expand_dims(i,axis=0)\n",
        "  img_data=preprocess_input(i)\n",
        "  predictions = model.predict(img_data)\n",
        "  result= np.argmax(predictions , axis=1)\n",
        "  return  dic[result[0]]\n",
        "\n"
      ],
      "metadata": {
        "id": "g15SF_1YPxs8"
      },
      "execution_count": null,
      "outputs": []
    },
    {
      "cell_type": "code",
      "source": [
        "\n",
        " result= predict_label(img_path , dic)\n",
        " result"
      ],
      "metadata": {
        "colab": {
          "base_uri": "https://localhost:8080/",
          "height": 53
        },
        "id": "1qMwKI2uRWGv",
        "outputId": "08b05654-c170-4876-8ce1-c242c33a675f"
      },
      "execution_count": null,
      "outputs": [
        {
          "output_type": "stream",
          "name": "stdout",
          "text": [
            "1/1 [==============================] - 0s 18ms/step\n"
          ]
        },
        {
          "output_type": "execute_result",
          "data": {
            "text/plain": [
              "'Uninfected'"
            ],
            "application/vnd.google.colaboratory.intrinsic+json": {
              "type": "string"
            }
          },
          "metadata": {},
          "execution_count": 100
        }
      ]
    }
  ]
}